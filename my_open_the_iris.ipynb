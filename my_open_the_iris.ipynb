{
 "cells": [
  {
   "cell_type": "code",
   "execution_count": 3,
   "id": "0ad4d6d4",
   "metadata": {},
   "outputs": [],
   "source": [
    "import pandas as pd"
   ]
  },
  {
   "cell_type": "code",
   "execution_count": null,
   "id": "52134e71",
   "metadata": {},
   "outputs": [],
   "source": [
    "def load_dataset():\n",
    "    data_set = pd.read_csv(\"/home/katienino/Downloads/iris.csv\")\n",
    "    print(data_set)"
   ]
  },
  {
   "cell_type": "code",
   "execution_count": null,
   "id": "2765fb6f",
   "metadata": {},
   "outputs": [],
   "source": [
    "load_dataset()"
   ]
  }
 ],
 "metadata": {
  "kernelspec": {
   "display_name": "base",
   "language": "python",
   "name": "python3"
  },
  "language_info": {
   "codemirror_mode": {
    "name": "ipython",
    "version": 3
   },
   "file_extension": ".py",
   "mimetype": "text/x-python",
   "name": "python",
   "nbconvert_exporter": "python",
   "pygments_lexer": "ipython3",
   "version": "3.12.7"
  }
 },
 "nbformat": 4,
 "nbformat_minor": 5
}
